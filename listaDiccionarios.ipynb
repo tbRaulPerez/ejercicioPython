{
 "cells": [
  {
   "cell_type": "code",
   "execution_count": 2,
   "metadata": {},
   "outputs": [
    {
     "name": "stdout",
     "output_type": "stream",
     "text": [
      "{'cod_articulo': '1', 'nombre': '2', 'descripcion': '3', 'precio': '4'}\n",
      "no fula eto\n",
      "no fula eto\n",
      "no fula eto\n"
     ]
    }
   ],
   "source": [
    "lista = [\n",
    " \n",
    "]\n",
    "\n",
    "\n",
    "def listado(lista):\n",
    "    for i in lista:\n",
    "        print(i)\n",
    "\n",
    "def alta(lista):\n",
    "    anadir = False\n",
    "    cod = input(\"Introduzca el codigo del articulo\")\n",
    "    for i in lista:\n",
    "        if i[\"cod_articulo\"] == cod:\n",
    "            print(\"Articulo ya existente, no se pudo añadir\")\n",
    "            anadir = True\n",
    "    if anadir == False:\n",
    "        lista.append({\"cod_articulo\" : cod, \"nombre\" : input(\"Introduzca el nombre del articulo\"), \"descripcion\" : input(\"Introduzca la descripcion del articulo\"), \"precio\" : input(\"Introduzca el precio del articulo\")})\n",
    "\n",
    "def baja(lista):\n",
    "    cod = input(\"Codigo del articulo a eliminar\")\n",
    "    for i in lista:\n",
    "        if i[\"cod_articulo\"] == cod:\n",
    "            lista.remove(i)\n",
    "        else:\n",
    "            print(\"articulo no encontrado\")\n",
    "\n",
    "def modificar(lista):\n",
    "    cod = input(\"Introduzca el codigo del articulo a modificar\")\n",
    "    campo = input(\"introduzca el campo a modificar\")\n",
    "    for i in lista:\n",
    "        if i[\"cod_articulo\"] == cod:\n",
    "            for j in i:\n",
    "                if j == campo:\n",
    "                    i[campo] = input(\"Nuevo valor del campo\")\n",
    "                else:\n",
    "                    print(\"campo no encontrado\")\n",
    "        else:\n",
    "            print(\"articulo no encontrado\")\n",
    "def busqueda(lista):\n",
    "    cod = input(\"Introduzca el codigo del elemento a buscar\")\n",
    "    for i in lista:\n",
    "        if i[\"cod_articulo\"] == cod:\n",
    "            print(i)\n",
    "\n",
    "\n",
    "while True:\n",
    "    opcion = int(input(\"Introduzca una opcion\"))\n",
    "    if opcion == 1:\n",
    "        alta(lista)\n",
    "    elif opcion == 2:\n",
    "        baja(lista)\n",
    "    elif opcion == 3:\n",
    "        modificar(lista)\n",
    "    elif opcion == 4:\n",
    "        busqueda(lista)\n",
    "    elif opcion == 5:\n",
    "        listado(lista)\n",
    "    elif opcion == 0:\n",
    "        break\n",
    "    else:\n",
    "        print(\"Opcion no valida\")\n",
    "\n",
    "    \n"
   ]
  }
 ],
 "metadata": {
  "kernelspec": {
   "display_name": "Python 3.10.7 64-bit",
   "language": "python",
   "name": "python3"
  },
  "language_info": {
   "codemirror_mode": {
    "name": "ipython",
    "version": 3
   },
   "file_extension": ".py",
   "mimetype": "text/x-python",
   "name": "python",
   "nbconvert_exporter": "python",
   "pygments_lexer": "ipython3",
   "version": "3.10.7"
  },
  "orig_nbformat": 4,
  "vscode": {
   "interpreter": {
    "hash": "e6104bf604ca1a37923b4f279a3bc03307071c215727ed52dcf746e90ba65021"
   }
  }
 },
 "nbformat": 4,
 "nbformat_minor": 2
}
